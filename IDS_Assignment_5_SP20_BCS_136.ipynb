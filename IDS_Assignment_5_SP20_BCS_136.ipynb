{
  "nbformat": 4,
  "nbformat_minor": 0,
  "metadata": {
    "colab": {
      "provenance": []
    },
    "kernelspec": {
      "name": "python3",
      "display_name": "Python 3"
    },
    "language_info": {
      "name": "python"
    }
  },
  "cells": [
    {
      "cell_type": "code",
      "source": [
        "\n",
        "#importing libraries\n",
        "import pandas as pd\n",
        "from sklearn.feature_extraction.text import CountVectorizer\n",
        "from sklearn.feature_extraction.text import TfidfTransformer\n",
        "from sklearn.metrics.pairwise import cosine_similarity"
      ],
      "metadata": {
        "id": "0HLLGx_cqvdt"
      },
      "execution_count": 6,
      "outputs": []
    },
    {
      "cell_type": "code",
      "source": [
        "#creating a dataframe\n",
        "df = pd.DataFrame({'Sentences':['S1','S2','S3'],'Text':['sunshine state enjoy sunshine','brown fox jump high, brown fox run','sunshine state fox run fast']})"
      ],
      "metadata": {
        "id": "yY4dC7Rvqvgd"
      },
      "execution_count": 7,
      "outputs": []
    },
    {
      "cell_type": "code",
      "source": [
        "\n",
        "#creating a CountVectorizer\n",
        "count_vectorizer = CountVectorizer()\n",
        "count_vectorizer_vectors = count_vectorizer.fit_transform(df['Text'])"
      ],
      "metadata": {
        "id": "AU39bdXeqvjP"
      },
      "execution_count": 8,
      "outputs": []
    },
    {
      "cell_type": "code",
      "source": [
        "\n",
        "#creating a tf-idf transformer\n",
        "tfidf_transformer = TfidfTransformer()\n",
        "tfidf_transformer_vectors = tfidf_transformer.fit_transform(count_vectorizer_vectors)"
      ],
      "metadata": {
        "id": "daczPep8qvlp"
      },
      "execution_count": 9,
      "outputs": []
    },
    {
      "cell_type": "code",
      "source": [
        "\n",
        "#Computing the TF-IDF values and cosine similarity between S1 and S3\n",
        "tfidf_scores = tfidf_transformer_vectors[0,:]\n",
        "tfidf_scores = tfidf_scores.todense().tolist()[0]"
      ],
      "metadata": {
        "id": "i5Tbd0x0qvoo"
      },
      "execution_count": 10,
      "outputs": []
    },
    {
      "cell_type": "code",
      "source": [
        "#Storing the TF-IDF values in a dataframe\n",
        "tfidf_df = pd.DataFrame(tfidf_scores,index=count_vectorizer.get_feature_names(),columns=['TF-IDF'])"
      ],
      "metadata": {
        "colab": {
          "base_uri": "https://localhost:8080/"
        },
        "id": "1yhlbqiPqvrk",
        "outputId": "cb787f0b-d5d5-42f0-cd92-f8037a2af39d"
      },
      "execution_count": 11,
      "outputs": [
        {
          "output_type": "stream",
          "name": "stderr",
          "text": [
            "/usr/local/lib/python3.8/dist-packages/sklearn/utils/deprecation.py:87: FutureWarning: Function get_feature_names is deprecated; get_feature_names is deprecated in 1.0 and will be removed in 1.2. Please use get_feature_names_out instead.\n",
            "  warnings.warn(msg, category=FutureWarning)\n"
          ]
        }
      ]
    },
    {
      "cell_type": "code",
      "source": [
        "#Print the TF-IDF values\n",
        "print(tfidf_df)"
      ],
      "metadata": {
        "colab": {
          "base_uri": "https://localhost:8080/"
        },
        "id": "N_hqyR0fqvuo",
        "outputId": "c7188aad-d314-4955-a9d4-8d5ebedffdf4"
      },
      "execution_count": 12,
      "outputs": [
        {
          "output_type": "stream",
          "name": "stdout",
          "text": [
            "            TF-IDF\n",
            "brown     0.000000\n",
            "enjoy     0.506890\n",
            "fast      0.000000\n",
            "fox       0.000000\n",
            "high      0.000000\n",
            "jump      0.000000\n",
            "run       0.000000\n",
            "state     0.385503\n",
            "sunshine  0.771006\n"
          ]
        }
      ]
    },
    {
      "cell_type": "code",
      "source": [
        "#Computing the cosine similarity between S1 and S3\n",
        "cosine_sim = cosine_similarity(tfidf_transformer_vectors[0:1], tfidf_transformer_vectors[2:3])"
      ],
      "metadata": {
        "id": "hcNnbcm0qvyF"
      },
      "execution_count": 13,
      "outputs": []
    },
    {
      "cell_type": "code",
      "source": [
        "#Print the cosine similarity\n",
        "print('Cosine Similarity between S1 and S3: ',cosine_sim[0][0])"
      ],
      "metadata": {
        "colab": {
          "base_uri": "https://localhost:8080/"
        },
        "id": "jOwP_oA_rQd1",
        "outputId": "a2fbeb9e-4f5f-4f5c-8aad-ab7b3fe3852c"
      },
      "execution_count": 14,
      "outputs": [
        {
          "output_type": "stream",
          "name": "stdout",
          "text": [
            "Cosine Similarity between S1 and S3:  0.48318447103868206\n"
          ]
        }
      ]
    }
  ]
}